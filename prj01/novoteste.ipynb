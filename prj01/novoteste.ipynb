{
 "cells": [
  {
   "cell_type": "code",
   "execution_count": 1,
   "metadata": {},
   "outputs": [
    {
     "name": "stderr",
     "output_type": "stream",
     "text": [
      "25/03/29 00:35:00 WARN Utils: Your hostname, codespaces-205cd0 resolves to a loopback address: 127.0.0.1; using 10.0.3.86 instead (on interface eth0)\n",
      "25/03/29 00:35:00 WARN Utils: Set SPARK_LOCAL_IP if you need to bind to another address\n",
      "Setting default log level to \"WARN\".\n",
      "To adjust logging level use sc.setLogLevel(newLevel). For SparkR, use setLogLevel(newLevel).\n",
      "25/03/29 00:35:01 WARN NativeCodeLoader: Unable to load native-hadoop library for your platform... using builtin-java classes where applicable\n"
     ]
    },
    {
     "name": "stdout",
     "output_type": "stream",
     "text": [
      "Estudantes com mais de 20 Anos\n"
     ]
    },
    {
     "name": "stderr",
     "output_type": "stream",
     "text": [
      "                                                                                \r"
     ]
    },
    {
     "name": "stdout",
     "output_type": "stream",
     "text": [
      "+-----+-----+---------+\n",
      "| Nome|Idade|    Curso|\n",
      "+-----+-----+---------+\n",
      "|Pedro|   22|   Física|\n",
      "|Lucas|   21| Biologia|\n",
      "| João|   22|Matemaica|\n",
      "+-----+-----+---------+\n",
      "\n",
      "Número de Estudante por Curso\n",
      "+----------+-----+\n",
      "|     Curso|Total|\n",
      "+----------+-----+\n",
      "|    Física|    1|\n",
      "|Matematica|    1|\n",
      "|  Biologia|    1|\n",
      "|   Química|    1|\n",
      "| Matemaica|    1|\n",
      "+----------+-----+\n",
      "\n",
      "Idade Media dos Estudantes:\n",
      "+----------+\n",
      "|IdadeMedia|\n",
      "+----------+\n",
      "|      20.8|\n",
      "+----------+\n",
      "\n",
      "Estudantes com mais de 20 Anos\n"
     ]
    },
    {
     "name": "stderr",
     "output_type": "stream",
     "text": [
      "                                                                                \r"
     ]
    },
    {
     "name": "stdout",
     "output_type": "stream",
     "text": [
      "+-----+-----+---------+\n",
      "| Nome|Idade|    Curso|\n",
      "+-----+-----+---------+\n",
      "|Pedro|   22|   Física|\n",
      "|Lucas|   21| Biologia|\n",
      "| João|   22|Matemaica|\n",
      "+-----+-----+---------+\n",
      "\n",
      "Número de Estudante por Curso\n",
      "+----------+-----+\n",
      "|     Curso|Total|\n",
      "+----------+-----+\n",
      "|    Física|    1|\n",
      "|Matematica|    1|\n",
      "|  Biologia|    1|\n",
      "|   Química|    1|\n",
      "| Matemaica|    1|\n",
      "+----------+-----+\n",
      "\n",
      "Idade Media dos Estudantes:\n",
      "+----------+\n",
      "|IdadeMedia|\n",
      "+----------+\n",
      "|      20.8|\n",
      "+----------+\n",
      "\n"
     ]
    }
   ],
   "source": [
    "from pyspark.sql import SparkSession\n",
    "\n",
    "spark = SparkSession.builder \\\n",
    "    .appName(\"Exemplo de Spark\")\\\n",
    "    .getOrCreate()\n",
    "\n",
    "data = [(\"Ana\", 20, \"Matematica\"),\n",
    "        (\"Pedro\",22, \"Física\"),\n",
    "        (\"Maria\", 19, \"Química\"),\n",
    "        (\"Lucas\", 21, \"Biologia\"),\n",
    "        (\"João\", 22, \"Matemaica\")\n",
    "        ]\n",
    "columns = [\"Nome\", \"Idade\", \"Curso\"]\n",
    "\n",
    "df = spark.createDataFrame(data, columns)\n",
    "\n",
    "df.createOrReplaceTempView(\"Estudantes\")\n",
    "\n",
    "print(\"Estudantes com mais de 20 Anos\")\n",
    "spark.sql(\"SELECT * FROM Estudantes WHERE Idade > 20\").show()\n",
    "\n",
    "print(\"Número de Estudante por Curso\")\n",
    "spark.sql(\"SELECT Curso, COUNT(*) AS Total FROM Estudantes GROUP BY Curso\").show()\n",
    "\n",
    "print(\"Idade Media dos Estudantes:\")\n",
    "spark.sql(\"SELECT AVG(Idade) AS IdadeMedia FROM Estudantes\").show()\n",
    "\n",
    "spark.stop()\n",
    "from pyspark.sql import SparkSession\n",
    "\n",
    "spark = SparkSession.builder \\\n",
    "    .appName(\"Exemplo de Spark\")\\\n",
    "    .getOrCreate()\n",
    "\n",
    "data = [(\"Ana\", 20, \"Matematica\"),\n",
    "        (\"Pedro\",22, \"Física\"),\n",
    "        (\"Maria\", 19, \"Química\"),\n",
    "        (\"Lucas\", 21, \"Biologia\"),\n",
    "        (\"João\", 22, \"Matemaica\")\n",
    "        ]\n",
    "columns = [\"Nome\", \"Idade\", \"Curso\"]\n",
    "\n",
    "df = spark.createDataFrame(data, columns)\n",
    "\n",
    "df.createOrReplaceTempView(\"Estudantes\")\n",
    "\n",
    "print(\"Estudantes com mais de 20 Anos\")\n",
    "spark.sql(\"SELECT * FROM Estudantes WHERE Idade > 20\").show()\n",
    "\n",
    "print(\"Número de Estudante por Curso\")\n",
    "spark.sql(\"SELECT Curso, COUNT(*) AS Total FROM Estudantes GROUP BY Curso\").show()\n",
    "\n",
    "print(\"Idade Media dos Estudantes:\")\n",
    "spark.sql(\"SELECT AVG(Idade) AS IdadeMedia FROM Estudantes\").show()\n",
    "\n",
    "spark.stop()\n"
   ]
  }
 ],
 "metadata": {
  "kernelspec": {
   "display_name": "Python 3",
   "language": "python",
   "name": "python3"
  },
  "language_info": {
   "codemirror_mode": {
    "name": "ipython",
    "version": 3
   },
   "file_extension": ".py",
   "mimetype": "text/x-python",
   "name": "python",
   "nbconvert_exporter": "python",
   "pygments_lexer": "ipython3",
   "version": "3.12.1"
  }
 },
 "nbformat": 4,
 "nbformat_minor": 2
}
